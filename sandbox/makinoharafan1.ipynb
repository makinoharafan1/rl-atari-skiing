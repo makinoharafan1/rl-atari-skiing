{
 "cells": [
  {
   "cell_type": "code",
   "execution_count": 2,
   "metadata": {},
   "outputs": [],
   "source": [
    "import gymnasium as gym\n",
    "import matplotlib.pyplot as plt\n",
    "import numpy as np\n",
    "\n",
    "import torch.nn as nn\n",
    "import torch\n",
    "import torch.functional as f"
   ]
  },
  {
   "cell_type": "code",
   "execution_count": 919,
   "metadata": {},
   "outputs": [],
   "source": [
    "import cv2"
   ]
  },
  {
   "cell_type": "code",
   "execution_count": 3,
   "metadata": {},
   "outputs": [
    {
     "name": "stderr",
     "output_type": "stream",
     "text": [
      "A.L.E: Arcade Learning Environment (version 0.8.1+53f58b7)\n",
      "[Powered by Stella]\n"
     ]
    }
   ],
   "source": [
    "from ale_py import ALEInterface\n",
    "ale = ALEInterface()"
   ]
  },
  {
   "cell_type": "code",
   "execution_count": 4,
   "metadata": {},
   "outputs": [
    {
     "name": "stderr",
     "output_type": "stream",
     "text": [
      "Game console created:\n",
      "  ROM file:  /home/makinoharafan1/code/rl-atari-skiing/rl-skiing/lib/python3.11/site-packages/AutoROM/roms/skiing.bin\n",
      "  Cart Name: Skiing (1980) (Activision) [!]\n",
      "  Cart MD5:  b76fbadc8ffb1f83e2ca08b6fb4d6c9f\n",
      "  Display Format:  AUTO-DETECT ==> NTSC\n",
      "  ROM Size:        2048\n",
      "  Bankswitch Type: AUTO-DETECT ==> 2K\n",
      "\n",
      "Running ROM file...\n",
      "Random seed is 1714313286\n"
     ]
    }
   ],
   "source": [
    "from ale_py.roms import Skiing\n",
    "ale.loadROM(Skiing)"
   ]
  },
  {
   "cell_type": "code",
   "execution_count": 5,
   "metadata": {},
   "outputs": [],
   "source": [
    "from typing import Any, Text\n",
    "\n",
    "from ale_py.env import gym as ale_gym\n",
    "\n",
    "# Patch to allow rendering Atari games.\n",
    "# The AtariEnv's render method expects the mode to be in self._render_mode\n",
    "# (usually initialized with env.make) instead of taking mode as a param.\n",
    "_original_atari_render = ale_gym.AtariEnv.render\n",
    "\n",
    "\n",
    "def atari_render(self, mode: Text = 'rgb_array') -> Any:\n",
    "  original_render_mode = self._render_mode\n",
    "  try:\n",
    "    self._render_mode = mode\n",
    "    return _original_atari_render(self)\n",
    "  finally:\n",
    "    self._render_mode = original_render_mode\n",
    "\n",
    "\n",
    "ale_gym.AtariEnv.render = atari_render"
   ]
  },
  {
   "cell_type": "code",
   "execution_count": 6,
   "metadata": {},
   "outputs": [
    {
     "name": "stderr",
     "output_type": "stream",
     "text": [
      "A.L.E: Arcade Learning Environment (version 0.8.1+53f58b7)\n",
      "[Powered by Stella]\n"
     ]
    }
   ],
   "source": [
    "env = gym.make('ALE/Skiing-v5')"
   ]
  },
  {
   "cell_type": "code",
   "execution_count": 902,
   "metadata": {},
   "outputs": [],
   "source": [
    "def epsilon_greedy_policy(state, Q, epsilon, n_action):\n",
    "  probs = torch.ones(n_action) * epsilon / n_action\n",
    "  best_action = torch.argmax(Q[state]).item()\n",
    "  probs[best_action] += 1.0 - epsilon\n",
    "  return torch.multinomial(probs, 1).item()\n",
    "\n",
    "# def epsilon_greedy_policy(observation, Q, epsilon, n_action):\n",
    "#   A = np.ones(n_action, dtype=int) * epsilon / n_action\n",
    "#   best_action = np.argmax(Q[observation])\n",
    "#   A[best_action] += (1.0 - epsilon)\n",
    "#   return A"
   ]
  },
  {
   "cell_type": "code",
   "execution_count": 914,
   "metadata": {},
   "outputs": [],
   "source": [
    "from collections import defaultdict\n",
    "\n",
    "def sarsa(env, gamma, n_episode, alpha, epsilon):\n",
    "  n_action = env.action_space.n\n",
    "  Q = defaultdict(lambda : torch.empty(n_action))\n",
    "\n",
    "  for episode in range(n_episode):\n",
    "    env.reset()\n",
    "    state = (True, False)\n",
    "    # state = 0\n",
    "    is_done = False\n",
    "    action = epsilon_greedy_policy(state, Q, epsilon, n_action)\n",
    "\n",
    "    while not is_done:\n",
    "      new_state, reward, is_done, _, _ = env.step(action)\n",
    "\n",
    "      player_pos = get_pos_player(new_state)\n",
    "      flags_pos = get_pos_flags(new_state)\n",
    "\n",
    "      # new_state = player_pos + flags_pos\n",
    "\n",
    "      new_state = (player_pos[1] > flags_pos[1] - 10, player_pos[1] < flags_pos[1] + 10)\n",
    "\n",
    "      new_action = epsilon_greedy_policy(new_state, Q, epsilon, n_action)\n",
    "      td_delta = reward + gamma * torch.max(Q[new_state]) - Q[state][action]\n",
    "      Q[state][action] += alpha * td_delta\n",
    "      length_episode[episode] += 1\n",
    "      total_reward_episode[episode] += reward\n",
    "\n",
    "      state = new_state\n",
    "      action = new_action\n",
    "    \n",
    "    print(\"Episode:\", episode, \"Total Reward:\", total_reward_episode[episode])\n",
    "    # print(Q)\n",
    "\n",
    "  policy = {}\n",
    "  for state, actions in Q.items():\n",
    "    policy[state] = torch.argmax(actions).item()\n",
    "\n",
    "  return Q, policy"
   ]
  },
  {
   "cell_type": "code",
   "execution_count": 917,
   "metadata": {},
   "outputs": [],
   "source": [
    "n_episode = 50\n",
    "\n",
    "length_episode = [0] * n_episode\n",
    "total_reward_episode = [0] * n_episode"
   ]
  },
  {
   "cell_type": "code",
   "execution_count": 907,
   "metadata": {},
   "outputs": [],
   "source": [
    "gamma = 0.1\n",
    "alpha = 0.2\n",
    "epsilon = 0.1"
   ]
  },
  {
   "cell_type": "code",
   "execution_count": 918,
   "metadata": {},
   "outputs": [
    {
     "name": "stdout",
     "output_type": "stream",
     "text": [
      "Episode: 0 Total Reward: -26549.0\n",
      "Episode: 1 Total Reward: -19560.0\n",
      "Episode: 2 Total Reward: -33756.0\n",
      "Episode: 3 Total Reward: -32001.0\n",
      "Episode: 4 Total Reward: -30000.0\n",
      "Episode: 5 Total Reward: -26325.0\n",
      "Episode: 6 Total Reward: -30000.0\n",
      "Episode: 7 Total Reward: -31775.0\n",
      "Episode: 8 Total Reward: -30000.0\n",
      "Episode: 9 Total Reward: -30000.0\n",
      "Episode: 10 Total Reward: -33073.0\n",
      "Episode: 11 Total Reward: -31632.0\n",
      "Episode: 12 Total Reward: -30000.0\n",
      "Episode: 13 Total Reward: -33840.0\n",
      "Episode: 14 Total Reward: -29538.0\n",
      "Episode: 15 Total Reward: -28151.0\n",
      "Episode: 16 Total Reward: -30000.0\n",
      "Episode: 17 Total Reward: -29166.0\n",
      "Episode: 18 Total Reward: -30000.0\n",
      "Episode: 19 Total Reward: -33633.0\n",
      "Episode: 20 Total Reward: -34045.0\n",
      "Episode: 21 Total Reward: -28513.0\n",
      "Episode: 22 Total Reward: -27380.0\n",
      "Episode: 23 Total Reward: -30000.0\n",
      "Episode: 24 Total Reward: -30000.0\n",
      "Episode: 25 Total Reward: -34631.0\n",
      "Episode: 26 Total Reward: -29530.0\n",
      "Episode: 27 Total Reward: -25358.0\n",
      "Episode: 28 Total Reward: -30000.0\n",
      "Episode: 29 Total Reward: -25431.0\n",
      "Episode: 30 Total Reward: -16129.0\n",
      "Episode: 31 Total Reward: -31308.0\n",
      "Episode: 32 Total Reward: -32316.0\n",
      "Episode: 33 Total Reward: -30000.0\n",
      "Episode: 34 Total Reward: -32744.0\n",
      "Episode: 35 Total Reward: -34060.0\n",
      "Episode: 36 Total Reward: -25457.0\n",
      "Episode: 37 Total Reward: -30000.0\n",
      "Episode: 38 Total Reward: -30368.0\n"
     ]
    },
    {
     "ename": "KeyboardInterrupt",
     "evalue": "",
     "output_type": "error",
     "traceback": [
      "\u001b[0;31m---------------------------------------------------------------------------\u001b[0m",
      "\u001b[0;31mKeyboardInterrupt\u001b[0m                         Traceback (most recent call last)",
      "Cell \u001b[0;32mIn[918], line 1\u001b[0m\n\u001b[0;32m----> 1\u001b[0m optimal_Q, optimal_policy \u001b[38;5;241m=\u001b[39m \u001b[43msarsa\u001b[49m\u001b[43m(\u001b[49m\u001b[43menv\u001b[49m\u001b[43m,\u001b[49m\u001b[43m \u001b[49m\u001b[43mgamma\u001b[49m\u001b[43m,\u001b[49m\u001b[43m \u001b[49m\u001b[43mn_episode\u001b[49m\u001b[43m,\u001b[49m\u001b[43m \u001b[49m\u001b[43malpha\u001b[49m\u001b[43m,\u001b[49m\u001b[43m \u001b[49m\u001b[43mepsilon\u001b[49m\u001b[43m)\u001b[49m\n",
      "Cell \u001b[0;32mIn[914], line 18\u001b[0m, in \u001b[0;36msarsa\u001b[0;34m(env, gamma, n_episode, alpha, epsilon)\u001b[0m\n\u001b[1;32m     15\u001b[0m new_state, reward, is_done, _, _ \u001b[38;5;241m=\u001b[39m env\u001b[38;5;241m.\u001b[39mstep(action)\n\u001b[1;32m     17\u001b[0m player_pos \u001b[38;5;241m=\u001b[39m get_pos_player(new_state)\n\u001b[0;32m---> 18\u001b[0m flags_pos \u001b[38;5;241m=\u001b[39m \u001b[43mget_pos_flags\u001b[49m\u001b[43m(\u001b[49m\u001b[43mnew_state\u001b[49m\u001b[43m)\u001b[49m\n\u001b[1;32m     20\u001b[0m \u001b[38;5;66;03m# new_state = player_pos + flags_pos\u001b[39;00m\n\u001b[1;32m     22\u001b[0m new_state \u001b[38;5;241m=\u001b[39m (player_pos[\u001b[38;5;241m1\u001b[39m] \u001b[38;5;241m>\u001b[39m flags_pos[\u001b[38;5;241m1\u001b[39m] \u001b[38;5;241m-\u001b[39m \u001b[38;5;241m10\u001b[39m, player_pos[\u001b[38;5;241m1\u001b[39m] \u001b[38;5;241m<\u001b[39m flags_pos[\u001b[38;5;241m1\u001b[39m] \u001b[38;5;241m+\u001b[39m \u001b[38;5;241m10\u001b[39m)\n",
      "Cell \u001b[0;32mIn[851], line 2\u001b[0m, in \u001b[0;36mget_pos_flags\u001b[0;34m(observe)\u001b[0m\n\u001b[1;32m      1\u001b[0m \u001b[38;5;28;01mdef\u001b[39;00m \u001b[38;5;21mget_pos_flags\u001b[39m(observe):\n\u001b[0;32m----> 2\u001b[0m     \u001b[38;5;28;01mif\u001b[39;00m np\u001b[38;5;241m.\u001b[39many(\u001b[43mnp\u001b[49m\u001b[38;5;241;43m.\u001b[39;49m\u001b[43msum\u001b[49m\u001b[43m(\u001b[49m\u001b[43mobserve\u001b[49m\u001b[43m \u001b[49m\u001b[38;5;241;43m==\u001b[39;49m\u001b[43m \u001b[49m\u001b[43m[\u001b[49m\u001b[38;5;241;43m184\u001b[39;49m\u001b[43m,\u001b[49m\u001b[43m \u001b[49m\u001b[38;5;241;43m50\u001b[39;49m\u001b[43m,\u001b[49m\u001b[43m \u001b[49m\u001b[38;5;241;43m50\u001b[39;49m\u001b[43m]\u001b[49m\u001b[43m,\u001b[49m\u001b[43m \u001b[49m\u001b[38;5;241;43m-\u001b[39;49m\u001b[38;5;241;43m1\u001b[39;49m\u001b[43m)\u001b[49m \u001b[38;5;241m==\u001b[39m \u001b[38;5;241m3\u001b[39m):\n\u001b[1;32m      3\u001b[0m         ids \u001b[38;5;241m=\u001b[39m np\u001b[38;5;241m.\u001b[39mwhere(np\u001b[38;5;241m.\u001b[39msum(observe \u001b[38;5;241m==\u001b[39m [\u001b[38;5;241m184\u001b[39m, \u001b[38;5;241m50\u001b[39m, \u001b[38;5;241m50\u001b[39m], \u001b[38;5;241m-\u001b[39m\u001b[38;5;241m1\u001b[39m) \u001b[38;5;241m==\u001b[39m \u001b[38;5;241m3\u001b[39m)\n\u001b[1;32m      4\u001b[0m         \u001b[38;5;28;01mreturn\u001b[39;00m \u001b[38;5;28mint\u001b[39m(ids[\u001b[38;5;241m0\u001b[39m]\u001b[38;5;241m.\u001b[39mmean()), \u001b[38;5;28mint\u001b[39m(ids[\u001b[38;5;241m1\u001b[39m]\u001b[38;5;241m.\u001b[39mmean())\n",
      "File \u001b[0;32m~/code/rl-atari-skiing/rl-skiing/lib/python3.11/site-packages/numpy/core/fromnumeric.py:2313\u001b[0m, in \u001b[0;36msum\u001b[0;34m(a, axis, dtype, out, keepdims, initial, where)\u001b[0m\n\u001b[1;32m   2310\u001b[0m         \u001b[38;5;28;01mreturn\u001b[39;00m out\n\u001b[1;32m   2311\u001b[0m     \u001b[38;5;28;01mreturn\u001b[39;00m res\n\u001b[0;32m-> 2313\u001b[0m \u001b[38;5;28;01mreturn\u001b[39;00m \u001b[43m_wrapreduction\u001b[49m\u001b[43m(\u001b[49m\u001b[43ma\u001b[49m\u001b[43m,\u001b[49m\u001b[43m \u001b[49m\u001b[43mnp\u001b[49m\u001b[38;5;241;43m.\u001b[39;49m\u001b[43madd\u001b[49m\u001b[43m,\u001b[49m\u001b[43m \u001b[49m\u001b[38;5;124;43m'\u001b[39;49m\u001b[38;5;124;43msum\u001b[39;49m\u001b[38;5;124;43m'\u001b[39;49m\u001b[43m,\u001b[49m\u001b[43m \u001b[49m\u001b[43maxis\u001b[49m\u001b[43m,\u001b[49m\u001b[43m \u001b[49m\u001b[43mdtype\u001b[49m\u001b[43m,\u001b[49m\u001b[43m \u001b[49m\u001b[43mout\u001b[49m\u001b[43m,\u001b[49m\u001b[43m \u001b[49m\u001b[43mkeepdims\u001b[49m\u001b[38;5;241;43m=\u001b[39;49m\u001b[43mkeepdims\u001b[49m\u001b[43m,\u001b[49m\n\u001b[1;32m   2314\u001b[0m \u001b[43m                      \u001b[49m\u001b[43minitial\u001b[49m\u001b[38;5;241;43m=\u001b[39;49m\u001b[43minitial\u001b[49m\u001b[43m,\u001b[49m\u001b[43m \u001b[49m\u001b[43mwhere\u001b[49m\u001b[38;5;241;43m=\u001b[39;49m\u001b[43mwhere\u001b[49m\u001b[43m)\u001b[49m\n",
      "File \u001b[0;32m~/code/rl-atari-skiing/rl-skiing/lib/python3.11/site-packages/numpy/core/fromnumeric.py:88\u001b[0m, in \u001b[0;36m_wrapreduction\u001b[0;34m(obj, ufunc, method, axis, dtype, out, **kwargs)\u001b[0m\n\u001b[1;32m     85\u001b[0m         \u001b[38;5;28;01melse\u001b[39;00m:\n\u001b[1;32m     86\u001b[0m             \u001b[38;5;28;01mreturn\u001b[39;00m reduction(axis\u001b[38;5;241m=\u001b[39maxis, out\u001b[38;5;241m=\u001b[39mout, \u001b[38;5;241m*\u001b[39m\u001b[38;5;241m*\u001b[39mpasskwargs)\n\u001b[0;32m---> 88\u001b[0m \u001b[38;5;28;01mreturn\u001b[39;00m \u001b[43mufunc\u001b[49m\u001b[38;5;241;43m.\u001b[39;49m\u001b[43mreduce\u001b[49m\u001b[43m(\u001b[49m\u001b[43mobj\u001b[49m\u001b[43m,\u001b[49m\u001b[43m \u001b[49m\u001b[43maxis\u001b[49m\u001b[43m,\u001b[49m\u001b[43m \u001b[49m\u001b[43mdtype\u001b[49m\u001b[43m,\u001b[49m\u001b[43m \u001b[49m\u001b[43mout\u001b[49m\u001b[43m,\u001b[49m\u001b[43m \u001b[49m\u001b[38;5;241;43m*\u001b[39;49m\u001b[38;5;241;43m*\u001b[39;49m\u001b[43mpasskwargs\u001b[49m\u001b[43m)\u001b[49m\n",
      "\u001b[0;31mKeyboardInterrupt\u001b[0m: "
     ]
    }
   ],
   "source": [
    "optimal_Q, optimal_policy = sarsa(env, gamma, n_episode, alpha, epsilon)"
   ]
  },
  {
   "cell_type": "code",
   "execution_count": 909,
   "metadata": {},
   "outputs": [
    {
     "data": {
      "image/png": "[encoded data removed]",
      "text/plain": [
       "<Figure size 640x480 with 1 Axes>"
      ]
     },
     "metadata": {},
     "output_type": "display_data"
    }
   ],
   "source": [
    "plt.plot(np.arange(1, n_episode + 1), total_reward_episode)\n",
    "plt.show()"
   ]
  },
  {
   "cell_type": "code",
   "execution_count": 839,
   "metadata": {},
   "outputs": [
    {
     "data": {
      "text/plain": [
       "(array([[[0, 0, 0],\n",
       "         [0, 0, 0],\n",
       "         [0, 0, 0],\n",
       "         ...,\n",
       "         [0, 0, 0],\n",
       "         [0, 0, 0],\n",
       "         [0, 0, 0]],\n",
       " \n",
       "        [[0, 0, 0],\n",
       "         [0, 0, 0],\n",
       "         [0, 0, 0],\n",
       "         ...,\n",
       "         [0, 0, 0],\n",
       "         [0, 0, 0],\n",
       "         [0, 0, 0]],\n",
       " \n",
       "        [[0, 0, 0],\n",
       "         [0, 0, 0],\n",
       "         [0, 0, 0],\n",
       "         ...,\n",
       "         [0, 0, 0],\n",
       "         [0, 0, 0],\n",
       "         [0, 0, 0]],\n",
       " \n",
       "        ...,\n",
       " \n",
       "        [[0, 0, 0],\n",
       "         [0, 0, 0],\n",
       "         [0, 0, 0],\n",
       "         ...,\n",
       "         [0, 0, 0],\n",
       "         [0, 0, 0],\n",
       "         [0, 0, 0]],\n",
       " \n",
       "        [[0, 0, 0],\n",
       "         [0, 0, 0],\n",
       "         [0, 0, 0],\n",
       "         ...,\n",
       "         [0, 0, 0],\n",
       "         [0, 0, 0],\n",
       "         [0, 0, 0]],\n",
       " \n",
       "        [[0, 0, 0],\n",
       "         [0, 0, 0],\n",
       "         [0, 0, 0],\n",
       "         ...,\n",
       "         [0, 0, 0],\n",
       "         [0, 0, 0],\n",
       "         [0, 0, 0]]], dtype=uint8),\n",
       " {'lives': 0, 'episode_frame_number': 0, 'frame_number': 868})"
      ]
     },
     "execution_count": 839,
     "metadata": {},
     "output_type": "execute_result"
    }
   ],
   "source": [
    "env.reset()"
   ]
  },
  {
   "cell_type": "code",
   "execution_count": 812,
   "metadata": {},
   "outputs": [],
   "source": [
    "new_state, reward, is_done, _, _ = env.step(env.action_space.sample())"
   ]
  },
  {
   "cell_type": "code",
   "execution_count": 99,
   "metadata": {},
   "outputs": [],
   "source": [
    "new_state = new_state[len(new_state) // 2 : len(new_state) // 2 + 20]"
   ]
  },
  {
   "cell_type": "code",
   "execution_count": 100,
   "metadata": {},
   "outputs": [
    {
     "data": {
      "text/plain": [
       "(20, 160, 3)"
      ]
     },
     "execution_count": 100,
     "metadata": {},
     "output_type": "execute_result"
    }
   ],
   "source": [
    "new_state.shape"
   ]
  },
  {
   "cell_type": "code",
   "execution_count": 81,
   "metadata": {},
   "outputs": [],
   "source": [
    "new_state2, reward, is_done, _, _ = env.step(env.action_space.sample())"
   ]
  },
  {
   "cell_type": "code",
   "execution_count": 53,
   "metadata": {},
   "outputs": [],
   "source": [
    "new_state[1][1][0] = 4"
   ]
  },
  {
   "cell_type": "code",
   "execution_count": 91,
   "metadata": {},
   "outputs": [],
   "source": [
    "import hashlib\n",
    "\n",
    "def custom_hash(arr):\n",
    "    m = hashlib.sha256()\n",
    "    m.update(str(arr).encode('utf-8'))\n",
    "    return int(m.hexdigest(), 36)"
   ]
  },
  {
   "cell_type": "code",
   "execution_count": 849,
   "metadata": {},
   "outputs": [],
   "source": [
    "new_state, reward, is_done, _, _ = env.step(env.action_space.sample())"
   ]
  },
  {
   "cell_type": "code",
   "execution_count": 852,
   "metadata": {},
   "outputs": [
    {
     "data": {
      "text/plain": [
       "<matplotlib.image.AxesImage at 0x7f7267c3c350>"
      ]
     },
     "execution_count": 852,
     "metadata": {},
     "output_type": "execute_result"
    },
    {
     "data": {
      "image/png": "[encoded data removed]",
      "text/plain": [
       "<Figure size 640x480 with 1 Axes>"
      ]
     },
     "metadata": {},
     "output_type": "display_data"
    }
   ],
   "source": [
    "plt.imshow(new_state)"
   ]
  },
  {
   "cell_type": "code",
   "execution_count": 829,
   "metadata": {},
   "outputs": [
    {
     "data": {
      "text/plain": [
       "(210, 160, 3)"
      ]
     },
     "execution_count": 829,
     "metadata": {},
     "output_type": "execute_result"
    }
   ],
   "source": [
    "new_state.shape"
   ]
  },
  {
   "cell_type": "code",
   "execution_count": 814,
   "metadata": {},
   "outputs": [
    {
     "data": {
      "text/plain": [
       "<matplotlib.image.AxesImage at 0x7f7267e85e10>"
      ]
     },
     "execution_count": 814,
     "metadata": {},
     "output_type": "execute_result"
    },
    {
     "data": {
      "image/png": "[encoded data removed]",
      "text/plain": [
       "<Figure size 640x480 with 1 Axes>"
      ]
     },
     "metadata": {},
     "output_type": "display_data"
    }
   ],
   "source": [
    "new_state = new_state[24: -24:, 12: -12]\n",
    "\n",
    "new_state.shape\n",
    "\n",
    "plt.imshow(new_state)"
   ]
  },
  {
   "cell_type": "code",
   "execution_count": 842,
   "metadata": {},
   "outputs": [
    {
     "name": "stdout",
     "output_type": "stream",
     "text": [
      "(48, 80)\n"
     ]
    }
   ],
   "source": [
    "def get_pos_player(observe):\n",
    "    ids = np.where(np.sum(observe == [214, 92, 92], -1) == 3)\n",
    "    return int(ids[0].mean()), int(ids[1].mean())\n",
    "\n",
    "print(get_pos_player(new_state))"
   ]
  },
  {
   "cell_type": "code",
   "execution_count": 851,
   "metadata": {},
   "outputs": [
    {
     "name": "stdout",
     "output_type": "stream",
     "text": [
      "(148, 61)\n"
     ]
    }
   ],
   "source": [
    "def get_pos_flags(observe):\n",
    "    if np.any(np.sum(observe == [184, 50, 50], -1) == 3):\n",
    "        ids = np.where(np.sum(observe == [184, 50, 50], -1) == 3)\n",
    "        return int(ids[0].mean()), int(ids[1].mean())\n",
    "    else:\n",
    "        base = 0\n",
    "        ids = np.where(np.sum(observe[base:-60] == [66, 72, 200], -1) == 3)\n",
    "        if len(ids[0]) == 0:\n",
    "            return 0, 0  \n",
    "        else:\n",
    "            return int(ids[0].mean() + base), int(ids[1].mean())\n",
    "\n",
    "print(get_pos_flags(new_state))"
   ]
  },
  {
   "cell_type": "code",
   "execution_count": 786,
   "metadata": {},
   "outputs": [],
   "source": [
    "def isolate_red_blue(image, dilation_factor=1, block_size=5):\n",
    "    hsv_image = cv2.cvtColor(image, cv2.COLOR_BGR2HSV)\n",
    "\n",
    "    lower_red = np.array([0, 100, 100])\n",
    "    upper_red = np.array([10, 255, 255])\n",
    "    lower_blue = np.array([100, 100, 100])\n",
    "    upper_blue = np.array([140, 255, 255])\n",
    "\n",
    "    red_mask = cv2.inRange(hsv_image, lower_red, upper_red)\n",
    "    blue_mask = cv2.inRange(hsv_image, lower_blue, upper_blue)\n",
    "\n",
    "    mask = red_mask + blue_mask\n",
    "\n",
    "    result_image = image.copy()\n",
    "    result_image[np.where(red_mask != 0)] = [0, 0, 255] \n",
    "    result_image[np.where(blue_mask != 0)] = [255, 0, 0]\n",
    "    result_image[np.where(mask == 0)] = [255, 255, 255]\n",
    "\n",
    "    return result_image"
   ]
  },
  {
   "cell_type": "code",
   "execution_count": 787,
   "metadata": {},
   "outputs": [
    {
     "data": {
      "text/plain": [
       "<matplotlib.image.AxesImage at 0x7f726814c6d0>"
      ]
     },
     "execution_count": 787,
     "metadata": {},
     "output_type": "execute_result"
    },
    {
     "data": {
      "image/png": "[encoded data removed]",
      "text/plain": [
       "<Figure size 640x480 with 1 Axes>"
      ]
     },
     "metadata": {},
     "output_type": "display_data"
    }
   ],
   "source": [
    "plt.imshow(isolate_red_blue(resized_image))"
   ]
  },
  {
   "cell_type": "code",
   "execution_count": 796,
   "metadata": {},
   "outputs": [
    {
     "data": {
      "text/plain": [
       "<matplotlib.image.AxesImage at 0x7f7268155fd0>"
      ]
     },
     "execution_count": 796,
     "metadata": {},
     "output_type": "execute_result"
    },
    {
     "data": {
      "image/png": "[encoded data removed]",
      "text/plain": [
       "<Figure size 640x480 with 1 Axes>"
      ]
     },
     "metadata": {},
     "output_type": "display_data"
    }
   ],
   "source": [
    "resized_image = cv2.resize(new_state, (, 10), interpolation = cv2.INTER_AREA)\n",
    "\n",
    "plt.imshow(resized_image)"
   ]
  }
 ],
 "metadata": {
  "kernelspec": {
   "display_name": "rl-skiing",
   "language": "python",
   "name": "python3"
  },
  "language_info": {
   "codemirror_mode": {
    "name": "ipython",
    "version": 3
   },
   "file_extension": ".py",
   "mimetype": "text/x-python",
   "name": "python",
   "nbconvert_exporter": "python",
   "pygments_lexer": "ipython3",
   "version": "3.11.8"
  }
 },
 "nbformat": 4,
 "nbformat_minor": 2
}
